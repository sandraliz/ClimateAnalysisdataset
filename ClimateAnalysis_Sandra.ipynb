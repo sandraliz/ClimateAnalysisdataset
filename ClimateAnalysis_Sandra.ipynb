{
  "nbformat": 4,
  "nbformat_minor": 0,
  "metadata": {
    "colab": {
      "name": "ClimateAnalysis-Sandra.ipynb",
      "provenance": []
    },
    "kernelspec": {
      "name": "python3",
      "display_name": "Python 3"
    }
  },
  "cells": [
    {
      "cell_type": "code",
      "metadata": {
        "id": "07d5-q8cPJMl"
      },
      "source": [
        "import pandas as pd\r\n",
        "import numpy as np\r\n",
        "import random\r\n",
        "import string\r\n",
        "from datetime import datetime, time, date"
      ],
      "execution_count": null,
      "outputs": []
    },
    {
      "cell_type": "code",
      "metadata": {
        "id": "cxcdmfPYPZDW"
      },
      "source": [
        "lngth=2000\r\n",
        "rainfal= pd.Series(np.zeros(2000), name=\"Rainfall\")"
      ],
      "execution_count": null,
      "outputs": []
    },
    {
      "cell_type": "code",
      "metadata": {
        "id": "SYJg5hzJPbUh"
      },
      "source": [
        "rainfal[30:60]=np.random.uniform(0,100,size=30)\r\n",
        "rainfal[300:330]=np.random.uniform(1,30,size=30)\r\n",
        "rainfal[330:380]=np.random.uniform(40,90,size=50)\r\n",
        "rainfal[380:410]=np.random.uniform(1,30,size=30)\r\n",
        "rainfal[990:1050]=np.random.uniform(0,100,size=60)\r\n",
        "rainfal[1050:1100]=np.random.uniform(1,70,size=50)\r\n",
        "rainfal[1100:1300]=np.random.uniform(50,90,size=200)\r\n",
        "rainfal[1300:1400]=np.random.uniform(1,20,size=100)\r\n",
        "rainfal[1790:1830]=np.random.uniform(0,50,size=40)\r\n",
        "rainfal[1830:1860]=np.random.uniform(1,10,size=30)  "
      ],
      "execution_count": null,
      "outputs": []
    },
    {
      "cell_type": "code",
      "metadata": {
        "id": "QNZQqLvEPjym"
      },
      "source": [
        "start_date = '2009-01-26 00:00:27.43'\r\n",
        "date_start = pd.Series(pd.date_range(start=start_date, periods=2000, freq='H'), name=\"Date_time\")"
      ],
      "execution_count": null,
      "outputs": []
    },
    {
      "cell_type": "code",
      "metadata": {
        "id": "DA7v5cbKPmMh"
      },
      "source": [
        "date=date_start.to_frame()\r\n",
        "rainfall=rainfal.to_frame()"
      ],
      "execution_count": null,
      "outputs": []
    },
    {
      "cell_type": "code",
      "metadata": {
        "id": "WjBNwmnRPokS"
      },
      "source": [
        "df=pd.DataFrame()\r\n",
        "df['Date_time'] = date['Date_time']\r\n",
        "df['Date']=date['Date_time'].apply(lambda x: x.date())\r\n",
        "df = df.reindex(columns=[\"Date\",\"Date_time\"])\r\n",
        "print(df)\r\n",
        "df['Time']= date['Date_time'].apply(lambda x: x.time())\r\n",
        "df['Rainfall'] = rainfall['Rainfall']"
      ],
      "execution_count": null,
      "outputs": []
    },
    {
      "cell_type": "code",
      "metadata": {
        "id": "B3ayjov-P2ms"
      },
      "source": [
        "df['Temperature']=pd.DataFrame(np.zeros(shape=(len(df),1)))\r\n",
        "df['Humidity']=pd.DataFrame(np.zeros(shape=(len(df),1)))\r\n",
        "df['Underwater_temp']=pd.DataFrame(np.zeros(shape=(len(df),1)))\r\n",
        "df['Conductivity']=pd.DataFrame(np.zeros(shape=(len(df),1)))\r\n",
        "df['Dissolved_oxygen']=pd.DataFrame(np.zeros(shape=(len(df),1)))\r\n",
        "df['Ph']=pd.DataFrame(np.zeros(shape=(len(df),1)))\r\n",
        "df['Growth']=pd.DataFrame(np.zeros(shape=(len(df),1)))"
      ],
      "execution_count": null,
      "outputs": []
    },
    {
      "cell_type": "code",
      "metadata": {
        "id": "B0of7WhRPrvc"
      },
      "source": [
        "data=pd.DataFrame()\r\n",
        "sata=pd.DataFrame()\r\n",
        "data['Date'] = date['Date_time'].apply(lambda x: x.time())\r\n",
        "data['morning'] = (data['Date'] >= time(6,0,27)) & (data['Date'] <= time(12,0,27))\r\n",
        "data['afternoon'] = (data['Date'] >= time(12,0,27)) & (data['Date'] <= time(19,0,27))\r\n",
        "data['night'] = ((data['Date'] >= time(19,0,27)) & (data['Date'] <= time(23,1,27)))|((data['Date']>=time(0,0,27))&(data['Date']<=time(6,1,27)))\r\n",
        "sata['Day']=date['Date_time'].apply(lambda x: x.day)\r\n",
        "df['morning']=data['morning']\r\n",
        "df['afternoon']=data['afternoon']\r\n",
        "df['night']=data['night']"
      ],
      "execution_count": null,
      "outputs": []
    },
    {
      "cell_type": "code",
      "metadata": {
        "id": "ht2-SAgjP7u0"
      },
      "source": [
        "temp1=random.sample(range(28, 35), 7)\r\n",
        "temp1.sort()\r\n",
        "temp2=np.random.uniform(25,30,size=15)\r\n",
        "te=np.sort(temp2)"
      ],
      "execution_count": null,
      "outputs": []
    },
    {
      "cell_type": "code",
      "metadata": {
        "id": "4DR8oB5AP-aJ"
      },
      "source": [
        "j=0\r\n",
        "k=6\r\n",
        "g=0\r\n",
        "for i in range (lngth):\r\n",
        "        if(bool(df.morning[i])==True):\r\n",
        "            df.Temperature[i]=temp1[j]\r\n",
        "            j=j+1\r\n",
        "        else:\r\n",
        "            j=0\r\n",
        "        if(bool(df.afternoon[i])==True):\r\n",
        "            df.Temperature[i]=temp1[k]\r\n",
        "            k=k-1\r\n",
        "        else:\r\n",
        "            k=6 \r\n",
        "        if(bool(df.night[i])==True):\r\n",
        "            df.Temperature[i]=temp2[g]\r\n",
        "            g=g+1\r\n",
        "        else:\r\n",
        "            g=0\r\n"
      ],
      "execution_count": null,
      "outputs": []
    },
    {
      "cell_type": "code",
      "metadata": {
        "id": "T9nEm_1LQBmU"
      },
      "source": [
        "tem1=np.linspace(45, 59.28571429, 7)\r\n",
        "tem=np.linspace(61.66666667,95,15)\r\n",
        "tem2=np.sort(tem)[::-1]"
      ],
      "execution_count": null,
      "outputs": []
    },
    {
      "cell_type": "code",
      "metadata": {
        "id": "URcbP6p4QEM4"
      },
      "source": [
        "j=0\r\n",
        "k=6\r\n",
        "for i in range (lngth):\r\n",
        "        if(bool(df.morning[i])==True):\r\n",
        "            df.Humidity[i]=tem1[k]\r\n",
        "            k=k-1\r\n",
        "        else:\r\n",
        "            k=6\r\n",
        "        if(bool(df.afternoon[i])==True):\r\n",
        "            df.Humidity[i]=tem1[j]\r\n",
        "            j=j+1\r\n",
        "        else:\r\n",
        "            j=0\r\n",
        "        if(bool(df.night[i])==True):  \r\n",
        "            for z in range(15):\r\n",
        "                if(df.Temperature[i]==te[z]):\r\n",
        "                    df.Humidity[i]=tem2[z]\r\n",
        "                    z=z+1\r\n",
        "        i=i+1       "
      ],
      "execution_count": null,
      "outputs": []
    },
    {
      "cell_type": "code",
      "metadata": {
        "id": "tnTFk2M0QHGs"
      },
      "source": [
        "diffs = df.Rainfall.diff()            \r\n",
        "for i in range(2000):\r\n",
        "        if(diffs[i]>0):\r\n",
        "            df.Temperature[i]=df.Temperature[i-1]-(diffs[i]*0.03)\r\n",
        "        elif(diffs[i]<0):\r\n",
        "            df.Temperature[i]=df.Temperature[i-1]+((-1*diffs[i])*0.03)\r\n",
        "        i=i+1 \r\n",
        "difs = df.Temperature.diff()\r\n",
        "for i in range(1,2000):\r\n",
        "    if((df.Rainfall[i]>0.0) | (df.Rainfall[i-1]>0.0)):\r\n",
        "        if(difs[i]>0):\r\n",
        "            df.Humidity[i]=df.Humidity[i-1]+(diffs[i]*0.04)\r\n",
        "        elif(difs[i]<0):\r\n",
        "            df.Humidity[i]=df.Humidity[i-1]-((-1*diffs[i])*0.04)\r\n",
        "    i=i+1 "
      ],
      "execution_count": null,
      "outputs": []
    },
    {
      "cell_type": "code",
      "metadata": {
        "id": "nk8x0mCUQJ3w"
      },
      "source": [
        "df.Underwater_temp[0]=np.random.randint(24,26)\r\n",
        "df.Dissolved_oxygen[0]=np.random.randint(9,12)  \r\n",
        "difs = df.Temperature.diff()\r\n",
        "for i in range(1,2000):\r\n",
        "    if(difs[i]>0):\r\n",
        "            df.Underwater_temp[i]=df.Underwater_temp[i-1]+(difs[i]*0.4)\r\n",
        "    elif(difs[i]<0):\r\n",
        "            df.Underwater_temp[i]=df.Underwater_temp[i-1]-((-1*difs[i])*0.4)\r\n",
        "    i=i+1 \r\n",
        "\r\n",
        "diffs = df.Rainfall.diff()            \r\n",
        "for i in range(lngth):\r\n",
        "        if(diffs[i]==100):\r\n",
        "            df.Underwater_temp[i]=20;\r\n",
        "        elif((diffs[i]>0) | (diffs[i]<0)):    \r\n",
        "            df.Underwater_temp[i]=20+((100-df.Rainfall[i])*0.04)\r\n",
        "        i=i+1\r\n",
        "dfs = df.Underwater_temp.diff()    \r\n",
        "for i in range(lngth):  \r\n",
        "    if(dfs[i]>0):\r\n",
        "        df.Dissolved_oxygen[i]=df.Dissolved_oxygen[i-1]-(dfs[i]*0.8)\r\n",
        "    elif(dfs[i]<0):\r\n",
        "        df.Dissolved_oxygen[i]=df.Dissolved_oxygen[i-1]+((-1*dfs[i])*0.8)\r\n",
        "    i=i+1            "
      ],
      "execution_count": null,
      "outputs": []
    },
    {
      "cell_type": "code",
      "metadata": {
        "id": "0QNHXgbZQNl6"
      },
      "source": [
        "tem=np.linspace(0.8, 3, 168)\r\n",
        "t=np.sort(tem)[::-1]"
      ],
      "execution_count": null,
      "outputs": []
    },
    {
      "cell_type": "code",
      "metadata": {
        "id": "pJK0Y9SEQQbh"
      },
      "source": [
        "week=df['Date_time'].dt.week[0]\r\n",
        "j=0\r\n",
        "flag=0\r\n",
        "for i in range (1999):\r\n",
        "    df.Conductivity[i]=t[j]\r\n",
        "    j=j+1\r\n",
        "    i=i+1\r\n",
        "    if(week<df['Date_time'].dt.week[i]):\r\n",
        "        week=week+1\r\n",
        "        flag=1\r\n",
        "    if(flag==1):\r\n",
        "        j=0\r\n",
        "        flag=0\r\n",
        "df.Conductivity[1999]=t[j]        "
      ],
      "execution_count": null,
      "outputs": []
    },
    {
      "cell_type": "code",
      "metadata": {
        "id": "EkN7_og3QTEP"
      },
      "source": [
        "df['Ph']=np.random.uniform(low=6.5, high=7.5, size=2000)\r\n"
      ],
      "execution_count": null,
      "outputs": []
    },
    {
      "cell_type": "code",
      "metadata": {
        "id": "CiFd82z5QVz0"
      },
      "source": [
        "df.drop([\"morning\", \"afternoon\",\"night\",'Date_time'], axis = 1, inplace = True)"
      ],
      "execution_count": null,
      "outputs": []
    },
    {
      "cell_type": "code",
      "metadata": {
        "id": "QVT-cKTXQYST"
      },
      "source": [
        "sandra_csv_data = df.to_csv(r'C:\\Users\\user\\Desktop\\ML Internship 2021\\Sandra.csv', encoding='utf-8', index=False)"
      ],
      "execution_count": null,
      "outputs": []
    }
  ]
}